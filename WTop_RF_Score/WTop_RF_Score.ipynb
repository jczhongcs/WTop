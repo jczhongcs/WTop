{
 "cells": [
  {
   "cell_type": "code",
   "execution_count": 1,
   "id": "8d232f62",
   "metadata": {},
   "outputs": [],
   "source": [
    "import  pandas as pd\n",
    "import  numpy as np\n",
    "from sklearn.model_selection import train_test_split\n",
    "from sklearn.metrics import classification_report\n",
    "from sklearn.preprocessing import StandardScaler\n",
    "import xlrd\n",
    "from sklearn.ensemble import RandomForestClassifier\n",
    "from sklearn.metrics import accuracy_score\n",
    "import openpyxl\n",
    "import xgboost as xgb\n",
    "from sklearn.feature_selection import RFE\n",
    "from concurrent.futures import ThreadPoolExecutor\n",
    "import queue\n",
    "import warnings\n",
    "import joblib\n",
    "%run myfun.ipynb\n",
    "\n",
    "warnings.filterwarnings(\"ignore\")\n",
    "clf = joblib.load(\"D:\\\\path\\\\model.m\")\n"
   ]
  },
  {
   "cell_type": "code",
   "execution_count": 3,
   "id": "25d171ff",
   "metadata": {
    "scrolled": true
   },
   "outputs": [
    {
     "name": "stderr",
     "output_type": "stream",
     "text": [
      "[Parallel(n_jobs=10)]: Using backend ThreadingBackend with 10 concurrent workers.\n",
      "[Parallel(n_jobs=10)]: Done  12 tasks      | elapsed:    2.3s\n",
      "[Parallel(n_jobs=10)]: Done 108 tasks      | elapsed:   14.9s\n",
      "[Parallel(n_jobs=10)]: Done 268 tasks      | elapsed:   36.9s\n",
      "[Parallel(n_jobs=10)]: Done 492 tasks      | elapsed:  1.1min\n",
      "[Parallel(n_jobs=10)]: Done 780 tasks      | elapsed:  1.8min\n",
      "[Parallel(n_jobs=10)]: Done 1000 out of 1000 | elapsed:  2.3min finished\n"
     ]
    }
   ],
   "source": [
    "feature_start = 10\n",
    "feature_num = 50\n",
    "\n",
    "\n",
    "# result_path = 'D:\\\\LYC\\exp_data\\\\0108\\\\random_forest_100\\\\f1f203_t1train_t3score'\n",
    "result_path = 'D:\\\\result\\\\res'\n",
    "\n",
    "\n",
    "#需要rescore的文件\n",
    "path = 'D:\\\\result\\\\out_all_prsm.csv'\n",
    "\n",
    "data=read_single_csv(path)\n",
    "data['feature21'] = data['feature21'].transform(lambda x: x.fillna(x.mean()))\n",
    "data['feature22'] = data['feature22'].transform(lambda x: x.fillna(x.mean()))\n",
    "data['feature23'] = data['feature23'].transform(lambda x: x.fillna(x.mean()))\n",
    "data['feature46'] = data['feature46'].fillna(0)\n",
    "data['feature47'] = data['feature47'].fillna(0)\n",
    "data['feature48'] = data['feature48'].fillna(0)\n",
    "data['feature48'] = data['feature48'].replace([np.inf, -np.inf], 0)\n",
    "data = data.dropna()\n",
    "data = data.reset_index(drop=True)\n",
    "test_feature = data[list(data.columns)[feature_start:feature_start+feature_num]]\n",
    "\n",
    "\n",
    "probabilities = clf.predict_proba(test_feature)  # 获取0和1的概率分数，注意返回的是2列的数组\n",
    "class_1_probs = probabilities[:,1]\n",
    "\n",
    "\n",
    "random_forest_score = pd.DataFrame(class_1_probs)\n",
    "data =pd.concat([data, random_forest_score], axis=1)\n",
    "data.columns = [*data.columns[:-1], 'score']\n",
    "data = data.sort_values(by=[data.columns[0],data.columns[-1], data.columns[9]], ascending=[True, False, False])\n",
    "data.to_csv(result_path+'_candi_output.csv', index=False)\n",
    "\n",
    "\n",
    "\n",
    "grouped = data.groupby(data.iloc[:, 0])\n",
    "# 创建一个空的 DataFrame 来存放结果\n",
    "result_df = pd.DataFrame(columns=data.columns)\n",
    "# 遍历每个分组\n",
    "for name, group in grouped:\n",
    "    sorted_group = group.sort_values(by=['score', 'match fragment'], ascending=[False,False])\n",
    "    max_row = sorted_group.iloc[0]\n",
    "    result_df = result_df.append(max_row, ignore_index=True)\n",
    "\n",
    "result_df = result_df.sort_values(by=[result_df.columns[-1], result_df.columns[9]], ascending=[False, False])\n",
    "\n",
    "\n",
    "# 将 DataFrame 保存为 Excel 文件\n",
    "result_df.to_csv(result_path+'_output.csv', index=False)"
   ]
  },
  {
   "cell_type": "code",
   "execution_count": null,
   "id": "3bd9802f",
   "metadata": {},
   "outputs": [],
   "source": []
  }
 ],
 "metadata": {
  "kernelspec": {
   "display_name": "Python 3 (ipykernel)",
   "language": "python",
   "name": "python3"
  },
  "language_info": {
   "codemirror_mode": {
    "name": "ipython",
    "version": 3
   },
   "file_extension": ".py",
   "mimetype": "text/x-python",
   "name": "python",
   "nbconvert_exporter": "python",
   "pygments_lexer": "ipython3",
   "version": "3.11.4"
  }
 },
 "nbformat": 4,
 "nbformat_minor": 5
}
